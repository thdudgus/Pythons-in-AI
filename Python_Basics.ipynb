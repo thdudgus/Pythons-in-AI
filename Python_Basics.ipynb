{
  "nbformat": 4,
  "nbformat_minor": 0,
  "metadata": {
    "colab": {
      "provenance": [],
      "authorship_tag": "ABX9TyMTz6+hr+LmuVFtrd0C9ucJ",
      "include_colab_link": true
    },
    "kernelspec": {
      "name": "python3",
      "display_name": "Python 3"
    },
    "language_info": {
      "name": "python"
    }
  },
  "cells": [
    {
      "cell_type": "markdown",
      "metadata": {
        "id": "view-in-github",
        "colab_type": "text"
      },
      "source": [
        "<a href=\"https://colab.research.google.com/github/thdudgus/Pythons-in-AI/blob/main/Python_Basics.ipynb\" target=\"_parent\"><img src=\"https://colab.research.google.com/assets/colab-badge.svg\" alt=\"Open In Colab\"/></a>"
      ]
    },
    {
      "cell_type": "markdown",
      "source": [
        "# Python Basics"
      ],
      "metadata": {
        "id": "FWwnbdbWcjNG"
      }
    },
    {
      "cell_type": "markdown",
      "source": [
        "## Introduction"
      ],
      "metadata": {
        "id": "2R6hsPADcpPT"
      }
    },
    {
      "cell_type": "code",
      "source": [
        "course_name = \"Artificial Intelligence (AI)\"\n",
        "\n",
        "### simple print function\n",
        "print(\"Hello CAU!\")"
      ],
      "metadata": {
        "colab": {
          "base_uri": "https://localhost:8080/"
        },
        "id": "fJW_XsAactLv",
        "outputId": "fc29205b-cd9c-4bd4-9741-2973cad68ee1"
      },
      "execution_count": null,
      "outputs": [
        {
          "output_type": "stream",
          "name": "stdout",
          "text": [
            "Hello CAU!\n"
          ]
        }
      ]
    },
    {
      "cell_type": "code",
      "source": [
        "### Add string with + operation\n",
        "print(\"Hello and welcome to \"+ course_name)"
      ],
      "metadata": {
        "colab": {
          "base_uri": "https://localhost:8080/"
        },
        "id": "IGkJFROPdzg_",
        "outputId": "312d33fc-84e8-4c0e-899c-ef90b7f9ac43"
      },
      "execution_count": null,
      "outputs": [
        {
          "output_type": "stream",
          "name": "stdout",
          "text": [
            "Hello and welcome to Artificial Intelligence (AI)\n"
          ]
        }
      ]
    },
    {
      "cell_type": "code",
      "source": [
        "### or use %s(strings), %d(integer), %f(float),...\n",
        "### \"text, 10\" == \"%s, %d\" %('text', 10)\n",
        "print('In %s course, we will learn various things for %d weeks' %(course_name, 16))"
      ],
      "metadata": {
        "colab": {
          "base_uri": "https://localhost:8080/"
        },
        "id": "ScJrgiEcd6xW",
        "outputId": "f37f5948-ce7c-4976-89e8-905517ef4d10"
      },
      "execution_count": null,
      "outputs": [
        {
          "output_type": "stream",
          "name": "stdout",
          "text": [
            "In Artificial Intelligence (AI) course, we will learn various things for 16 weeks\n"
          ]
        }
      ]
    },
    {
      "cell_type": "markdown",
      "source": [
        "## Python as a calculator"
      ],
      "metadata": {
        "id": "EJQAUz3XeivE"
      }
    },
    {
      "cell_type": "code",
      "source": [
        "print(2+2) # Addition\n",
        "print(50-5*6) # Subtraction and multiplication\n",
        "print()\n",
        "\n",
        "## Difference from Python 2 and Python 3 : division always makes the float result\n",
        "print(18/5) # 몫 아님. (정확한 값 출력)\n",
        "print()\n",
        "\n",
        "## Use // for generating integer result after division.\n",
        "print(18//5)  # 몫만 출력\n",
        "print()\n",
        "\n",
        "## % for get the remainder of the division\n",
        "# if k % 10 == 0: (if k can be divided by 10 with 0 remainder, below will be run.)\n",
        "print(101 % 10) # 나머지\n",
        "print()\n",
        "\n",
        "## ** for power.\n",
        "print(10 ** 2) # 10 squared (제곱)\n",
        "print(10 ** 3) # 10 cubed"
      ],
      "metadata": {
        "colab": {
          "base_uri": "https://localhost:8080/"
        },
        "id": "cjusKgmneWSA",
        "outputId": "9b483b08-dbaf-4480-cc72-2cd1d40b301e"
      },
      "execution_count": null,
      "outputs": [
        {
          "output_type": "stream",
          "name": "stdout",
          "text": [
            "4\n",
            "20\n",
            "\n",
            "3.6\n",
            "\n",
            "3\n",
            "\n",
            "1\n",
            "\n",
            "100\n",
            "1000\n"
          ]
        }
      ]
    },
    {
      "cell_type": "markdown",
      "source": [
        "## List\n",
        "\n",
        "### List in Python : group other values together!\n",
        "- len(L): Number of elements inside the List L  (L 리스트 안에 있는 요소의 개수)\n",
        "- Watch out for the indexing\n",
        "    - it starts from 0 1 2...\n",
        "    - If you want to go backward, it is -1, -2, -3, ....\n",
        "\n",
        "\n"
      ],
      "metadata": {
        "id": "ZVU3fzOwhD_E"
      }
    },
    {
      "cell_type": "code",
      "source": [
        "# Watch out for the indexing\n",
        "my_list = [0, 1, 2, 'a', 'b','c']\n",
        "print('Length of list : {}'.format(len(my_list)))\n",
        "print('len: %d' %len(my_list))\n",
        "print('First element:', my_list[0])  # Accessing the first element\n",
        "print('Last element:', my_list[-1])  # Accessing the last element"
      ],
      "metadata": {
        "colab": {
          "base_uri": "https://localhost:8080/"
        },
        "id": "P-khCCSrhfwI",
        "outputId": "96a44420-39ce-4687-e9f9-3d804a96a385"
      },
      "execution_count": null,
      "outputs": [
        {
          "output_type": "stream",
          "name": "stdout",
          "text": [
            "Length of list : 6\n",
            "len: 6\n",
            "First element: 0\n",
            "Last element: c\n"
          ]
        }
      ]
    },
    {
      "cell_type": "markdown",
      "source": [
        "### Slice and Concatenate\n",
        "- L[a:b]: slice the list \"L\" from index `a` to `b-1`. Number of the elements will be `b-a`   \n",
        "  => `인덱스 a부터 b까지만` 남게 됨. `요소 개수는 b-a`\n",
        "- L1 + L2: Concatenating two list L1 and L2\n"
      ],
      "metadata": {
        "id": "fVahsBXeicId"
      }
    },
    {
      "cell_type": "code",
      "source": [],
      "metadata": {
        "id": "IqK-4zD0IaLU"
      },
      "execution_count": null,
      "outputs": []
    },
    {
      "cell_type": "code",
      "source": [
        "# Slicing the list\n",
        "my_list = [0, 1, 2, 'a', 'b','c']\n",
        "print('Sliced list:', my_list[2:5])  # Slicing the list from index 2 to 4\n",
        "# 인덱스 2의 요소인 2부터 인덱스 4인 b까지. 요소 개수는 5-2인 3개\n",
        "\n",
        "# Concatenating lists\n",
        "my_list = [0, 1, 2, 'a', 'b','c']\n",
        "your_list = [3, 4, 5, 'd', 'e','f']\n",
        "concatenated_list = my_list + your_list\n",
        "print('Concatenated list:', concatenated_list)\n",
        "\n"
      ],
      "metadata": {
        "colab": {
          "base_uri": "https://localhost:8080/"
        },
        "id": "oGEmXVgRHu_R",
        "outputId": "dfa8b0b9-2fc0-4ec0-b454-9b9c2fe91a97"
      },
      "execution_count": null,
      "outputs": [
        {
          "output_type": "stream",
          "name": "stdout",
          "text": [
            "Sliced list: [2, 'a', 'b']\n",
            "Concatenated list: [0, 1, 2, 'a', 'b', 'c', 3, 4, 5, 'd', 'e', 'f']\n"
          ]
        }
      ]
    },
    {
      "cell_type": "markdown",
      "source": [
        "### Add and Delete\n",
        "\n",
        "- L.append(element): Add the element at the end of L. The length of L will be increased.\n",
        "- del L[a]: delete the element in index `a` of the list L\n",
        "- L[a:b] = []: delete a slice of elements from index `a` to `b-1`\n",
        "  => `인덱스 a부터 b-1까지의 요소`를 삭제\n",
        "\n"
      ],
      "metadata": {
        "id": "Dbam5qWdIeza"
      }
    },
    {
      "cell_type": "code",
      "source": [
        "# Adding an element to the list\n",
        "concatenated_list.append('NEW ELEMENT')\n",
        "print('List after adding new element:', concatenated_list)\n",
        "\n",
        "## Delete the element of list\n",
        "del concatenated_list[-1]\n",
        "print('List after erasing last: ', concatenated_list)\n",
        "\n",
        "## Delete the some part of the list\n",
        "concatenated_list[0:3] = []  # 인덱ㅅ 0~2까지 삭제\n",
        "print('List after erasing block: ', concatenated_list)\n",
        "print()"
      ],
      "metadata": {
        "colab": {
          "base_uri": "https://localhost:8080/"
        },
        "id": "xANS5N2rIFDO",
        "outputId": "27393cfc-a74a-4c64-c564-d55f2acfb491"
      },
      "execution_count": null,
      "outputs": [
        {
          "output_type": "stream",
          "name": "stdout",
          "text": [
            "List after adding new element: ['a', 'b', 'c', 3, 4, 5, 'd', 'e', 'f', 'NEW ELEMENT']\n",
            "List after erasing last:  ['a', 'b', 'c', 3, 4, 5, 'd', 'e', 'f']\n",
            "List after erasing block:  [3, 4, 5, 'd', 'e', 'f']\n",
            "\n"
          ]
        }
      ]
    },
    {
      "cell_type": "markdown",
      "source": [
        "## Indexing\n",
        "\n",
        "- L.index(element): find the index of the element."
      ],
      "metadata": {
        "id": "1jv4okgHLZx-"
      }
    },
    {
      "cell_type": "code",
      "source": [
        "## find the INDEX of the element!\n",
        "my_list = [0, 1, 2, 'a', 'b','c']\n",
        "your_list = [3, 4, 5, 'd', 'e','f']\n",
        "concatenated_list = my_list + your_list\n",
        "\n",
        "# Finding the index of the element '3' in the concatenated list\n",
        "index_3 = concatenated_list.index(3)\n",
        "print(concatenated_list)\n",
        "print('3 is at the {}th order in concat_list'.format(index_3 + 1 ) )"
      ],
      "metadata": {
        "colab": {
          "base_uri": "https://localhost:8080/"
        },
        "id": "3g3VBsNXMP0C",
        "outputId": "12af45ad-0bc4-40d6-bebe-c557d1994587"
      },
      "execution_count": null,
      "outputs": [
        {
          "output_type": "stream",
          "name": "stdout",
          "text": [
            "[0, 1, 2, 'a', 'b', 'c', 3, 4, 5, 'd', 'e', 'f']\n",
            "3 is at the 7th order in concat_list\n"
          ]
        }
      ]
    },
    {
      "cell_type": "markdown",
      "source": [
        "`concatenated_list.index(3)`은 concatenated_list에서 요소가 3인 인덱스를 찾는다.   \n",
        "index 메서드는 리스트에서 첫 번째로 나오는 요소의 인덱스를 반환한다.    \n",
        "3은 concatenated_list의 6번째 위치에 있으므로, index_3의 값은 6이 됩니다 (0부터 시작하는 인덱스).\n",
        "</br>\n",
        "\n",
        "요소 3이 concatenated_list에서 몇 번째 위치에 있는지를 출력한다.    \n",
        "인덱스는 0부터 시작하므로, index_3 + 1을 통해 사람의 수 기준으로 위치를 출력한다.    \n",
        "따라서 3은 7번째 위치에 있다."
      ],
      "metadata": {
        "id": "XEHgCJ3ePIXe"
      }
    },
    {
      "cell_type": "markdown",
      "source": [
        "### Nested list\n",
        "- A list can contain other lists as elements."
      ],
      "metadata": {
        "id": "991EoQbkP2ri"
      }
    },
    {
      "cell_type": "code",
      "source": [
        "## List can contain other list as element\n",
        "my_list = [0, 1, 2, 'a', 'b','c']\n",
        "your_list = [3, 4, 5, 'd', 'e','f']\n",
        "super_list = [my_list, your_list, [\"new!\"]]\n",
        "print(super_list)\n",
        "print()"
      ],
      "metadata": {
        "colab": {
          "base_uri": "https://localhost:8080/"
        },
        "id": "QxKu5lgYQBaQ",
        "outputId": "dda4edb2-77e7-4f6f-9a64-25da0d87a705"
      },
      "execution_count": null,
      "outputs": [
        {
          "output_type": "stream",
          "name": "stdout",
          "text": [
            "[[0, 1, 2, 'a', 'b', 'c'], [3, 4, 5, 'd', 'e', 'f'], ['new!']]\n",
            "\n"
          ]
        }
      ]
    },
    {
      "cell_type": "markdown",
      "source": [
        "### Others..."
      ],
      "metadata": {
        "id": "3x71wWH1VJBW"
      }
    },
    {
      "cell_type": "code",
      "source": [
        "## Some useful operations for the list\n",
        "curr_list = [2, 5, 1, 3, 0, 8, 9, 9, 10, 10]\n",
        "\n",
        "# Displaying the current list\n",
        "print('Current List:', curr_list)\n",
        "\n",
        "# Calculating the sum of the elements in the list\n",
        "print('Sum of the list: {}'.format(sum(curr_list)))\n",
        "\n",
        "# Finding the maximum and minimum elements in the list\n",
        "print('Maximum element: {}'.format(max(curr_list)))\n",
        "print('Minimum element: {}'.format(min(curr_list)))\n",
        "\n",
        "# Sorting the list in ascending order (오름차순)\n",
        "print('Sorted List:', sorted(curr_list))\n",
        "\n",
        "# Finding the unique elements in the list using a set\n",
        "print('Unique set:', set(curr_list))"
      ],
      "metadata": {
        "colab": {
          "base_uri": "https://localhost:8080/"
        },
        "id": "gw3XlWO0VJnq",
        "outputId": "469f8654-951d-4057-8d0f-91753ea00258"
      },
      "execution_count": null,
      "outputs": [
        {
          "output_type": "stream",
          "name": "stdout",
          "text": [
            "Current List: [2, 5, 1, 3, 0, 8, 9, 9, 10, 10]\n",
            "Sum of the list: 57\n",
            "Maximum element: 10\n",
            "Minimum element: 0\n",
            "Sorted List: [0, 1, 2, 3, 5, 8, 9, 9, 10, 10]\n",
            "Unique set: {0, 1, 2, 3, 5, 8, 9, 10}\n"
          ]
        }
      ]
    },
    {
      "cell_type": "markdown",
      "source": [
        "Python의 format() 메소드는 문자열을 구성하는 데 사용되며, 지정된 형식에 맞게 값을 포맷하거나 출력하는 데 사용된다.   \n",
        "\n",
        "format() 메소드는 중괄호 {}를 사용하여 문자열 안에 변수나 값들을 삽입하는 방식으로 동작한다.    \n",
        "중괄호 안에는 변수명이나 인덱스가 들어갈 수 있으며, 중괄호 안에 아무것도 적지 않으면 기본적으로 인덱스를 사용한다.   "
      ],
      "metadata": {
        "id": "01C7m63eWLm2"
      }
    },
    {
      "cell_type": "markdown",
      "source": [
        "## String\n",
        "\n",
        "### Some useful string operations\n",
        "- s1.split()\n",
        "-s1.join()\n",
        "-s1.lower() and s1.upper()\n",
        "\n",
        "### Indexing in the string (list)\n",
        "```\n",
        " +---+---+---+---+---+---+\n",
        " | P | y | t | h | o | n |\n",
        " +---+---+---+---+---+---+\n",
        "   0   1   2   3   4   5   6\n",
        "  -6  -5  -4  -3  -2  -1\n",
        "```"
      ],
      "metadata": {
        "id": "US0p2lsnBZHI"
      }
    },
    {
      "cell_type": "code",
      "source": [
        "## string을 split하기! 기본적으로 공백을 기준으로 split\n",
        "curr_str = \"This is the string for you! / Thanks a lot\"\n",
        "\n",
        "print(curr_str.split()) # string을 substring으로 split\n",
        "print(curr_str.split('/')) # '/'를 기준으로 string을 split"
      ],
      "metadata": {
        "colab": {
          "base_uri": "https://localhost:8080/"
        },
        "id": "Qr09bM7QBh9W",
        "outputId": "ecaf1f65-ddf5-4ed8-9bbc-ed1b2c231129"
      },
      "execution_count": 1,
      "outputs": [
        {
          "output_type": "stream",
          "name": "stdout",
          "text": [
            "['This', 'is', 'the', 'string', 'for', 'you!', '/', 'Thanks', 'a', 'lot']\n",
            "['This is the string for you! ', ' Thanks a lot']\n"
          ]
        }
      ]
    },
    {
      "cell_type": "code",
      "source": [
        "## Join the strings in the list. s1.join(L) would make L[0] + s1 + L[1] + s1 + ....\n",
        "curr_char = ['w', 'h', 'a', 't', 'i', 's', 't', 'h', 'i', 's']\n",
        "\n",
        "print(' '.join(curr_char)) # 공백과 함께 각 character를 join\n",
        "print(''.join(curr_char)) # 아무것도 없이 join (공백과 같은 구분 없이)\n",
        "print('HHH'.join(curr_char)) # 'HHH'와 함께 각 character를 join"
      ],
      "metadata": {
        "colab": {
          "base_uri": "https://localhost:8080/"
        },
        "id": "ZYsvMnXPB7HO",
        "outputId": "c1d0b1bf-a6e8-410b-e636-d2f878a11546"
      },
      "execution_count": 2,
      "outputs": [
        {
          "output_type": "stream",
          "name": "stdout",
          "text": [
            "w h a t i s t h i s\n",
            "whatisthis\n",
            "wHHHhHHHaHHHtHHHiHHHsHHHtHHHhHHHiHHHs\n"
          ]
        }
      ]
    },
    {
      "cell_type": "code",
      "source": [
        "## 소문자로 / 대문자로\n",
        "curr_str = \"This is the string for you! / Thanks a lot\"\n",
        "print(curr_str.lower())\n",
        "print(curr_str.upper())"
      ],
      "metadata": {
        "colab": {
          "base_uri": "https://localhost:8080/"
        },
        "id": "qWcJmrefC6Qp",
        "outputId": "2b157463-dcd8-4a77-fd9f-d45c86d00344"
      },
      "execution_count": 3,
      "outputs": [
        {
          "output_type": "stream",
          "name": "stdout",
          "text": [
            "this is the string for you! / thanks a lot\n",
            "THIS IS THE STRING FOR YOU! / THANKS A LOT\n"
          ]
        }
      ]
    },
    {
      "cell_type": "markdown",
      "source": [
        "## Dictionary in Python!\n",
        "- map 'key' with 'value'\n",
        "- D['key'] = value"
      ],
      "metadata": {
        "id": "V-nSJw9XDX0l"
      }
    },
    {
      "cell_type": "code",
      "source": [
        "## 딕셔너리 정의(Define)\n",
        "deep_learning_tools = dict()\n",
        "deep_learning_tools['Google'] = 'Tensorflow'\n",
        "deep_learning_tools['Meta'] = 'PyTorch'\n",
        "deep_learning_tools['Apache'] = 'MXNet'\n",
        "\n",
        "print('Dictionary: \\t', deep_learning_tools)\n",
        "print('Keys: \\t\\t', deep_learning_tools.keys())\n",
        "print('Values: \\t', deep_learning_tools.values())\n",
        "print('Length of this dictionary: {}'.format(len(deep_learning_tools)))"
      ],
      "metadata": {
        "colab": {
          "base_uri": "https://localhost:8080/"
        },
        "id": "9JIqKEAYDd5b",
        "outputId": "0b86cd41-59d5-465f-c659-da937a4fcc07"
      },
      "execution_count": 4,
      "outputs": [
        {
          "output_type": "stream",
          "name": "stdout",
          "text": [
            "Dictionary: \t {'Google': 'Tensorflow', 'Meta': 'PyTorch', 'Apache': 'MXNet'}\n",
            "Keys: \t\t dict_keys(['Google', 'Meta', 'Apache'])\n",
            "Values: \t dict_values(['Tensorflow', 'PyTorch', 'MXNet'])\n",
            "Length of this dictionary: 3\n"
          ]
        }
      ]
    },
    {
      "cell_type": "markdown",
      "source": [
        "## If statement (조건문)\n",
        "- Consists of **if, elif, else**.\n",
        "```\n",
        "if [some condition] :\n",
        "    do something you want\n",
        "elif [another condition] :\n",
        "    do another thing you want\n",
        "else:\n",
        "    do others you want\n",
        "```\n",
        "- **Always add ' : ' !**\n",
        "- Grammar real English"
      ],
      "metadata": {
        "id": "jnhtSOLYD_sV"
      }
    },
    {
      "cell_type": "code",
      "source": [
        "input_int = int(input('Enter your positive integer value!: '))\n",
        "if input_int < 0:\n",
        "    print('NEGATIVE INTEGER!')\n",
        "else:\n",
        "    if input_int % 5 == 0:\n",
        "        print('This integer can be divided by 5')\n",
        "    elif input_int % 5 == 1:\n",
        "        print('This integer leaves 1 after divided by 5')\n",
        "    else:\n",
        "        print('This interger leaves value larger than 1 after divided by 5')"
      ],
      "metadata": {
        "colab": {
          "base_uri": "https://localhost:8080/"
        },
        "id": "_7VTIDfsEGxy",
        "outputId": "2574ff7c-2f19-4172-eeb6-d79465b6533c"
      },
      "execution_count": 5,
      "outputs": [
        {
          "output_type": "stream",
          "name": "stdout",
          "text": [
            "Enter your positive integer value!: 3\n",
            "This interger leaves value larger than 1 after divided by 5\n"
          ]
        }
      ]
    },
    {
      "cell_type": "markdown",
      "source": [
        "## For statement and Range function\n",
        "(for문)\n",
        "\n",
        "\n",
        "```\n",
        "for (something) in (something that can be iterated):\n",
        "    do what you want with (something)\n",
        "```\n",
        "```\n",
        "for idx in range(start, end, stride):\n",
        "    idx would be start, start+stride, start+2*stride .....\n",
        "```\n",
        "* Always add ' : ' !\n",
        "* Grammar like English"
      ],
      "metadata": {
        "id": "AKAus1bOEkcL"
      }
    },
    {
      "cell_type": "code",
      "source": [
        "alphabet = ['a', 'b', 'c', 'd', 'e', 'f', 'g', 'h', 'i']\n",
        "### \"alphabet\" 리스트의 element를 반복\n",
        "for ch in alphabet:\n",
        "    print(ch)\n",
        "print()\n",
        "\n",
        "### 인덱스 정보와 \"alphabet\" 리스트의 element를 반복 (인덱스와 원소를 동시에 접근)\n",
        "for char_idx, char in enumerate(alphabet):\n",
        "    print(char_idx, char)"
      ],
      "metadata": {
        "colab": {
          "base_uri": "https://localhost:8080/"
        },
        "id": "jSnehPc2E4zE",
        "outputId": "0a2078a7-5806-402b-f0aa-fa4bae1affde"
      },
      "execution_count": 6,
      "outputs": [
        {
          "output_type": "stream",
          "name": "stdout",
          "text": [
            "a\n",
            "b\n",
            "c\n",
            "d\n",
            "e\n",
            "f\n",
            "g\n",
            "h\n",
            "i\n",
            "\n",
            "0 a\n",
            "1 b\n",
            "2 c\n",
            "3 d\n",
            "4 e\n",
            "5 f\n",
            "6 g\n",
            "7 h\n",
            "8 i\n"
          ]
        }
      ]
    },
    {
      "cell_type": "markdown",
      "source": [
        "enumerate() 함수는 기본적으로 인덱스와 원소로 이루어진 튜플(tuple)을 만들어준다.   \n",
        "따라서 인덱스와 원소를 각각 다른 변수에 할당하고 싶다면 인자 풀기(unpacking)를 해줘야 한다."
      ],
      "metadata": {
        "id": "APFywO3uEqpq"
      }
    },
    {
      "cell_type": "code",
      "source": [
        "for i in range(5): # start from 0 to param-1\n",
        "    print(i)\n",
        "print()\n",
        "\n",
        "for i in range(0, 5, 1): # start, end, stride\n",
        "    print(i)\n",
        "print()\n",
        "\n",
        "for i in range(5, 0, -1):\n",
        "    print(i)"
      ],
      "metadata": {
        "colab": {
          "base_uri": "https://localhost:8080/"
        },
        "id": "6yHQOhtHFqqf",
        "outputId": "928ba473-cdcc-4a21-ca91-8a210e01de2d"
      },
      "execution_count": 7,
      "outputs": [
        {
          "output_type": "stream",
          "name": "stdout",
          "text": [
            "0\n",
            "1\n",
            "2\n",
            "3\n",
            "4\n",
            "\n",
            "0\n",
            "1\n",
            "2\n",
            "3\n",
            "4\n",
            "\n",
            "5\n",
            "4\n",
            "3\n",
            "2\n",
            "1\n"
          ]
        }
      ]
    },
    {
      "cell_type": "code",
      "source": [
        "## key와 values로 반복.\n",
        "deep_learning_tools = dict()\n",
        "deep_learning_tools['Google'] = 'Tensorflow'\n",
        "deep_learning_tools['Meta'] = 'PyTorch'\n",
        "deep_learning_tools['Apache'] = 'MXNet'\n",
        "\n",
        "for k, v in deep_learning_tools.items():\n",
        "    print('{} \\t ---> \\t  {}'.format(k, v))"
      ],
      "metadata": {
        "colab": {
          "base_uri": "https://localhost:8080/"
        },
        "id": "8jIPStgaFzd_",
        "outputId": "ba761945-cc3e-41f3-a8a7-17ecd97ea45d"
      },
      "execution_count": 8,
      "outputs": [
        {
          "output_type": "stream",
          "name": "stdout",
          "text": [
            "Google \t ---> \t  Tensorflow\n",
            "Meta \t ---> \t  PyTorch\n",
            "Apache \t ---> \t  MXNet\n"
          ]
        }
      ]
    },
    {
      "cell_type": "code",
      "source": [
        "## Some tricks to make a list\n",
        "print([x for x in range(10)])\n",
        "print([x for x in range(10) if x % 2 == 0]) # 2로 나누어지는 원소만 출력\n",
        "print([x**2 for x in range(10) if x % 2 == 1]) # 각 요소의 제곱이 2로 나누어지지 않는 원소만 출력"
      ],
      "metadata": {
        "colab": {
          "base_uri": "https://localhost:8080/"
        },
        "id": "OGsBeHWLF7Q-",
        "outputId": "e814b128-fe7b-4588-de45-292875f0b83f"
      },
      "execution_count": 9,
      "outputs": [
        {
          "output_type": "stream",
          "name": "stdout",
          "text": [
            "[0, 1, 2, 3, 4, 5, 6, 7, 8, 9]\n",
            "[0, 2, 4, 6, 8]\n",
            "[1, 9, 25, 49, 81]\n"
          ]
        }
      ]
    },
    {
      "cell_type": "code",
      "source": [
        "## additional example\n",
        "start_idx = 5\n",
        "end_idx = 0\n",
        "stride = -1\n",
        "alphabet = ['a', 'b', 'c', 'd', 'e', 'f', 'g', 'h', 'i']\n",
        "\n",
        "### iterate elements using \"range\"\n",
        "for idx in range(start_idx, end_idx, stride):\n",
        "    print(alphabet[idx])\n",
        "print()\n",
        "\n",
        "### iterate elements using index information directly.\n",
        "print(alphabet[start_idx:end_idx:stride])\n",
        "print()\n",
        "\n",
        "for char in alphabet[start_idx:end_idx:stride]:\n",
        "    print(char)\n"
      ],
      "metadata": {
        "colab": {
          "base_uri": "https://localhost:8080/"
        },
        "id": "uO7URDMtGMNW",
        "outputId": "2c53a520-2d87-4d67-a208-8fe2509833cb"
      },
      "execution_count": 11,
      "outputs": [
        {
          "output_type": "stream",
          "name": "stdout",
          "text": [
            "f\n",
            "e\n",
            "d\n",
            "c\n",
            "b\n",
            "\n",
            "['f', 'e', 'd', 'c', 'b']\n",
            "\n",
            "f\n",
            "e\n",
            "d\n",
            "c\n",
            "b\n"
          ]
        }
      ]
    },
    {
      "cell_type": "code",
      "source": [
        "## additional example\n",
        "for i in range(2): # 0-1\n",
        "    for j in range(10): # 0-9\n",
        "        value = i * 10 + j\n",
        "        if i == 1 and j == 5:\n",
        "            print('I want this number : '+str(value))\n",
        "            break\n",
        "        else:\n",
        "            print(value)"
      ],
      "metadata": {
        "colab": {
          "base_uri": "https://localhost:8080/"
        },
        "id": "e-xZk0eFGN8n",
        "outputId": "ddd27a8d-6717-4fcb-f5d7-9012efb36d76"
      },
      "execution_count": 12,
      "outputs": [
        {
          "output_type": "stream",
          "name": "stdout",
          "text": [
            "0\n",
            "1\n",
            "2\n",
            "3\n",
            "4\n",
            "5\n",
            "6\n",
            "7\n",
            "8\n",
            "9\n",
            "10\n",
            "11\n",
            "12\n",
            "13\n",
            "14\n",
            "I want this number : 15\n"
          ]
        }
      ]
    },
    {
      "cell_type": "markdown",
      "source": [
        "## While statement\n",
        "```\n",
        "while (some condition to keep this while loop) :\n",
        "    do something you want\n",
        "```"
      ],
      "metadata": {
        "id": "Zsfh2ymHG4-z"
      }
    },
    {
      "cell_type": "code",
      "source": [
        "cnt = 0\n",
        "limit = 10\n",
        "middle_point = 5\n",
        "\n",
        "while cnt < limit:\n",
        "    print('Current Counter : ', cnt)\n",
        "    if cnt is middle_point:\n",
        "        print('STOP')\n",
        "        break\n",
        "    # when you use a 'while' statement, always care about infinite loop!\n",
        "    cnt += 1\n",
        "\n",
        "print('Final Counter : ', cnt)"
      ],
      "metadata": {
        "colab": {
          "base_uri": "https://localhost:8080/"
        },
        "id": "cjc-PdYhG4u5",
        "outputId": "5c370df6-c43f-4310-c8a6-0f531051cfd3"
      },
      "execution_count": 13,
      "outputs": [
        {
          "output_type": "stream",
          "name": "stdout",
          "text": [
            "Current Counter :  0\n",
            "Current Counter :  1\n",
            "Current Counter :  2\n",
            "Current Counter :  3\n",
            "Current Counter :  4\n",
            "Current Counter :  5\n",
            "STOP\n",
            "Final Counter :  5\n"
          ]
        }
      ]
    }
  ]
}