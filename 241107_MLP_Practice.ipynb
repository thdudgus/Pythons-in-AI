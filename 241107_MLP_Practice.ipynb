{
  "cells": [
    {
      "cell_type": "markdown",
      "metadata": {
        "id": "view-in-github",
        "colab_type": "text"
      },
      "source": [
        "<a href=\"https://colab.research.google.com/github/thdudgus/Pythons-in-AI/blob/main/241107_MLP_Practice.ipynb\" target=\"_parent\"><img src=\"https://colab.research.google.com/assets/colab-badge.svg\" alt=\"Open In Colab\"/></a>"
      ]
    },
    {
      "cell_type": "markdown",
      "metadata": {
        "id": "kmIOkV65f5S0"
      },
      "source": [
        "### Import Packages\n"
      ]
    },
    {
      "cell_type": "code",
      "execution_count": 1,
      "metadata": {
        "colab": {
          "base_uri": "https://localhost:8080/"
        },
        "id": "X1f7bWu9lJtX",
        "outputId": "9975c902-eea0-4514-bde8-b9d7f7c0dba1"
      },
      "outputs": [
        {
          "output_type": "stream",
          "name": "stdout",
          "text": [
            "2.5.1+cu121\n"
          ]
        }
      ],
      "source": [
        "import os # Provides a way to interact with the operating system, such as file operations.\n",
        "import csv # Enables reading and writing CSV files, which are commonly used for tabular data.\n",
        "import numpy as np\n",
        "from tqdm.notebook import tqdm\n",
        "\n",
        "# A plotting library for creating visualizations such as charts, histograms, and scatter plots.\n",
        "import matplotlib.pyplot as plt\n",
        "# The Python Imaging Library, used for image processing tasks such as opening, manipulating, and saving images.\n",
        "from PIL import Image\n",
        "\n",
        "import torch\n",
        "# provides datasets, transforms, and common architectures for computer vision tasks.\n",
        "import torchvision\n",
        "from torchvision import transforms\n",
        "# Contains neural network layers, loss functions, and utilities for building neural networks.\n",
        "import torch.nn as nn\n",
        "# Provides functional interface to neural network operations like activation functions and loss functions.\n",
        "import torch.nn.functional as F\n",
        "# Contains optimization algorithms such as SGD, Adam, RMSprop, etc. for training neural networks.\n",
        "import torch.optim as optim\n",
        "# Provides utilities for handling datasets and data loading in PyTorch.\n",
        "from torch.utils.data import Dataset, DataLoader\n",
        "\n",
        "# Printing PyTorch version\n",
        "print(torch.__version__)"
      ]
    },
    {
      "cell_type": "markdown",
      "metadata": {
        "id": "TTj1RldNHgSQ"
      },
      "source": [
        "### MNIST dataset is provided from Google Colab by default"
      ]
    },
    {
      "cell_type": "code",
      "execution_count": 2,
      "metadata": {
        "id": "pcMuF_m9Ev8W"
      },
      "outputs": [],
      "source": [
        "# Setting paths for train and test data\n",
        "train_path = './sample_data/mnist_train_small.csv'\n",
        "test_path = './sample_data/mnist_test.csv'\n",
        "img_size = 28"
      ]
    },
    {
      "cell_type": "markdown",
      "metadata": {
        "id": "PYiku-SxHnA6"
      },
      "source": [
        "### Choose your device - use GPU or not?"
      ]
    },
    {
      "cell_type": "code",
      "execution_count": 3,
      "metadata": {
        "colab": {
          "base_uri": "https://localhost:8080/"
        },
        "id": "k44xmCOHHmF4",
        "outputId": "d5e16d9d-8356-4956-a57c-baa8fa41b7b3"
      },
      "outputs": [
        {
          "output_type": "stream",
          "name": "stdout",
          "text": [
            "Current Device : cuda\n"
          ]
        }
      ],
      "source": [
        "# Choosing device: GPU or CPU\n",
        "device = 'cuda' if torch.cuda.is_available() else 'cpu'\n",
        "print('Current Device : {}'.format(device))"
      ]
    },
    {
      "cell_type": "markdown",
      "metadata": {
        "id": "1lukzx9CHuNv"
      },
      "source": [
        "### Read the MNIST dataset\n",
        "- total 1+ 28x28 dimension. 1 For Label, 28x28 for image\n"
      ]
    },
    {
      "cell_type": "code",
      "execution_count": 4,
      "metadata": {
        "id": "KACiPSPiFOyF"
      },
      "outputs": [],
      "source": [
        "# MNIST 데이터셋을 CSV 파일에서 읽어오는 함수\n",
        "def mnist_reader(file_path, img_size=img_size):\n",
        "    # 이미지와 레이블을 저장할 리스트 초기화\n",
        "    total_img = list()\n",
        "    total_label = list()\n",
        "\n",
        "    # CSV 파일 열기\n",
        "    with open(file_path) as csvfile:\n",
        "        # CSV 리더 생성\n",
        "        mnist_reader = csv.reader(csvfile)\n",
        "        # CSV 파일의 각 행 반복\n",
        "        for row in mnist_reader:\n",
        "            # 픽셀 값을 NumPy 배열로 변환하고 28x28로 변형\n",
        "            img = np.array(row[1:], dtype=np.uint8).reshape(img_size, img_size)\n",
        "            # 행의 첫 번째 요소에서 레이블 추출\n",
        "            label = int(row[0])\n",
        "\n",
        "            # 이미지와 레이블을 각각 리스트에 추가\n",
        "            total_img.append(img)\n",
        "            total_label.append(label)\n",
        "\n",
        "    # 리스트를 NumPy 배열로 변환\n",
        "    total_img = np.asarray(total_img)\n",
        "    total_label = np.asarray(total_label)\n",
        "\n",
        "    return total_img, total_label"
      ]
    },
    {
      "cell_type": "code",
      "execution_count": 5,
      "metadata": {
        "colab": {
          "base_uri": "https://localhost:8080/"
        },
        "id": "sghlSXb_Gd9-",
        "outputId": "83f2a7d1-5d1e-48fa-a48f-1df781bbd291"
      },
      "outputs": [
        {
          "output_type": "stream",
          "name": "stdout",
          "text": [
            "<class 'numpy.ndarray'>\n",
            "<class 'numpy.ndarray'>\n",
            "(20000, 28, 28) (20000,)\n",
            "(10000, 28, 28) (10000,)\n"
          ]
        }
      ],
      "source": [
        "# mnist_reader 함수를 사용하여 학습 및 테스트 이미지와 레이블 읽기\n",
        "train_img, train_label = mnist_reader(train_path)\n",
        "test_img, test_label = mnist_reader(test_path)\n",
        "\n",
        "# 데이터 타입과 배열 크기 출력\n",
        "print(type(train_img))\n",
        "print(type(train_label))\n",
        "print(train_img.shape, train_label.shape)\n",
        "print(test_img.shape, test_label.shape)"
      ]
    },
    {
      "cell_type": "markdown",
      "metadata": {
        "id": "XwsvttO0IJRL"
      },
      "source": [
        "### Define the Dataset"
      ]
    },
    {
      "cell_type": "code",
      "execution_count": 6,
      "metadata": {
        "id": "naa0-u1dGc6H"
      },
      "outputs": [],
      "source": [
        "# MNIST용 커스텀 데이터셋 클래스 정의\n",
        "class MNIST_Dataset(Dataset):\n",
        "    def __init__(self, img, label):\n",
        "        # 이미지와 레이블로 데이터셋 초기화\n",
        "        self.img = img\n",
        "        self.label = label\n",
        "        # 데이터 샘플의 총 개수 저장\n",
        "        self.num_data = self.img.shape[0]\n",
        "\n",
        "    def __len__(self):\n",
        "        # 데이터 샘플의 총 개수 반환\n",
        "        return self.num_data\n",
        "\n",
        "    def __getitem__(self, idx):\n",
        "        # 인덱스를 통해 샘플 가져오기\n",
        "        sample = dict()\n",
        "\n",
        "        # 이미지 픽셀 값을 [0, 1] 범위로 정규화\n",
        "        sample['img'] = self.img[idx] / 255\n",
        "        # 해당하는 레이블 가져오기\n",
        "        sample['label'] = self.label[idx]\n",
        "\n",
        "        return sample"
      ]
    },
    {
      "cell_type": "markdown",
      "metadata": {
        "id": "j3S8BdL5IMcb"
      },
      "source": [
        "### Define the DataLoader"
      ]
    },
    {
      "cell_type": "code",
      "execution_count": 7,
      "metadata": {
        "id": "Qu2Vn-qbIeTa"
      },
      "outputs": [],
      "source": [
        "# 배치 크기 설정\n",
        "batch_size = 64\n",
        "\n",
        "# 학습 및 테스트 데이터셋 클래스 인스턴스 생성\n",
        "train_dataset = MNIST_Dataset(train_img, train_label)\n",
        "test_dataset = MNIST_Dataset(test_img, test_label)\n",
        "\n",
        "# 학습 및 테스트 데이터를 배치 단위로 반복 처리하기 위한 DataLoader 객체 생성\n",
        "train_dataloader = DataLoader(train_dataset, batch_size=batch_size, shuffle=True)\n",
        "test_dataloader = DataLoader(test_dataset, batch_size=batch_size, shuffle=False)"
      ]
    },
    {
      "cell_type": "markdown",
      "metadata": {
        "id": "sT_N_IqnIQgQ"
      },
      "source": [
        "### Sample one data point from dataloader"
      ]
    },
    {
      "cell_type": "code",
      "execution_count": 8,
      "metadata": {
        "colab": {
          "base_uri": "https://localhost:8080/"
        },
        "id": "RAiU23NUKFl7",
        "outputId": "e94dca8d-3425-4fd8-9658-b0895a8997e6"
      },
      "outputs": [
        {
          "output_type": "stream",
          "name": "stdout",
          "text": [
            "torch.Size([64, 28, 28])\n",
            "torch.Size([64])\n",
            "tensor([7, 2, 1, 0, 4, 1, 4, 9, 5, 9, 0, 6, 9, 0, 1, 5, 9, 7, 3, 4, 9, 6, 6, 5,\n",
            "        4, 0, 7, 4, 0, 1, 3, 1, 3, 4, 7, 2, 7, 1, 2, 1, 1, 7, 4, 2, 3, 5, 1, 2,\n",
            "        4, 4, 6, 3, 5, 5, 6, 0, 4, 1, 9, 5, 7, 8, 9, 3])\n"
          ]
        }
      ],
      "source": [
        "# 테스트 데이터로더에서 데이터 한 배치를 가져오기\n",
        "sample = next(iter(test_dataloader))\n",
        "\n",
        "# 샘플 배치의 이미지와 레이블 텐서 크기 출력\n",
        "print(sample['img'].shape)\n",
        "print(sample['label'].shape)\n",
        "print(sample['label'])"
      ]
    },
    {
      "cell_type": "code",
      "execution_count": 9,
      "metadata": {
        "colab": {
          "base_uri": "https://localhost:8080/",
          "height": 452
        },
        "id": "XnDU90xVTpqC",
        "outputId": "6051fed8-e49a-4b30-c606-1c3aa9acd6d7"
      },
      "outputs": [
        {
          "output_type": "display_data",
          "data": {
            "text/plain": [
              "<Figure size 640x480 with 1 Axes>"
            ],
            "image/png": "[encoded data removed]"
          },
          "metadata": {}
        }
      ],
      "source": [
        "# 첫 번째 이미지를 시각화\n",
        "plot_idx = 0\n",
        "plt.imshow(sample['img'][plot_idx])\n",
        "plt.title('LABEL : {}'.format(sample['label'][plot_idx]))\n",
        "plt.show()"
      ]
    },
    {
      "cell_type": "markdown",
      "metadata": {
        "id": "LEjuX7lWIYlb"
      },
      "source": [
        "### Define MLPs function"
      ]
    },
    {
      "cell_type": "code",
      "execution_count": 10,
      "metadata": {
        "id": "Cx-fxCW5JD_w"
      },
      "outputs": [],
      "source": [
        "# MLP 모델 클래스 정의\n",
        "class MyModel(nn.Module):\n",
        "    def __init__(self, dim_hid_1=128, dim_hid_2=128, dim_inp=img_size**2, dim_out=10):\n",
        "        super(MyModel, self).__init__()\n",
        "\n",
        "        # 은닉층, 입력, 출력 차원 초기화\n",
        "        self.dim_hid_1 = dim_hid_1\n",
        "        self.dim_hid_2 = dim_hid_2\n",
        "        self.dim_inp = dim_inp\n",
        "        self.dim_out = dim_out\n",
        "\n",
        "        # 활성화 함수 정의 (ReLU)\n",
        "        self.acti = nn.ReLU()\n",
        "\n",
        "        # 첫 번째 블록 정의\n",
        "        self.block_1 = nn.Sequential(nn.Linear(dim_inp, dim_hid_1),\n",
        "                                     self.acti,\n",
        "                                     )\n",
        "\n",
        "        # 두 번째 블록 정의\n",
        "        self.block_2 = nn.Sequential(nn.Linear(dim_hid_1, dim_hid_2),\n",
        "                                     self.acti,\n",
        "                                     )\n",
        "\n",
        "        # 최종 출력층 정의\n",
        "        self.final_layer = nn.Linear(dim_hid_2, dim_out)\n",
        "\n",
        "    def forward(self, img):\n",
        "        # 입력 이미지를 1D 텐서로 변환\n",
        "        batch_size = img.shape[0]\n",
        "        inp = img.view(batch_size, -1)\n",
        "\n",
        "        # 첫 번째 블록을 거침\n",
        "        out = self.block_1(inp)\n",
        "\n",
        "        # 두 번째 블록을 거침\n",
        "        out = self.block_2(out)\n",
        "\n",
        "        # 최종 출력층을 거침\n",
        "        out = self.final_layer(out)\n",
        "\n",
        "        return out"
      ]
    },
    {
      "cell_type": "markdown",
      "metadata": {
        "id": "r4hjFl4-IsqO"
      },
      "source": [
        "### Create an instance of our MLP model and prepare the optimizer"
      ]
    },
    {
      "cell_type": "code",
      "execution_count": 11,
      "metadata": {
        "id": "ZWtw-y-MKuv1"
      },
      "outputs": [],
      "source": [
        "# MLP 모델 인스턴스 정의\n",
        "model = MyModel()\n",
        "\n",
        "# 모델을 적절한 장치(CPU 또는 GPU)로 이동\n",
        "model = model.to(device)\n",
        "\n",
        "# 모델 매개변수를 학습시키기 위한 옵티마이저 정의\n",
        "optimizer = optim.Adam(model.parameters(), lr=1e-4)"
      ]
    },
    {
      "cell_type": "markdown",
      "metadata": {
        "id": "DUSpLgVXIwqG"
      },
      "source": [
        "### Define functions for training and testing the model"
      ]
    },
    {
      "cell_type": "code",
      "execution_count": 12,
      "metadata": {
        "id": "Q9pXkpAMK42y"
      },
      "outputs": [],
      "source": [
        "# 학습 함수 정의\n",
        "def train(model, optimizer, sample):\n",
        "    # 모델을 '학습' 모드로 설정\n",
        "    model.train()\n",
        "\n",
        "    # 손실 함수 정의 (크로스 엔트로피 손실)\n",
        "    criterion = nn.CrossEntropyLoss()\n",
        "\n",
        "    # 샘플에서 입력 이미지와 레이블 추출\n",
        "    img = sample['img'].float().to(device)\n",
        "    label = sample['label'].long().to(device)\n",
        "\n",
        "    # 모델 예측값 계산\n",
        "    pred = model(img)\n",
        "\n",
        "    # 정확히 예측한 샘플 개수 계산\n",
        "    num_correct = sum(torch.argmax(pred, dim=1) == label)\n",
        "\n",
        "    # 손실 계산\n",
        "    pred_loss = criterion(pred, label)\n",
        "\n",
        "    # 역전파 및 가중치 업데이트 수행\n",
        "    optimizer.zero_grad()\n",
        "    pred_loss.backward()\n",
        "    optimizer.step()\n",
        "\n",
        "    # 손실 값과 정확히 예측한 샘플 개수 반환\n",
        "    return pred_loss.item(), num_correct.item()"
      ]
    },
    {
      "cell_type": "code",
      "execution_count": 13,
      "metadata": {
        "id": "MhcKwq8WOUGu"
      },
      "outputs": [],
      "source": [
        "# 테스트 함수 정의\n",
        "def test(model, sample):\n",
        "    # 모델을 '평가' 모드로 설정\n",
        "    model.eval()\n",
        "\n",
        "    # 손실 함수 정의 (크로스 엔트로피 손실)\n",
        "    criterion = nn.CrossEntropyLoss()\n",
        "\n",
        "    # 샘플에서 입력 이미지와 레이블 추출\n",
        "    img = sample['img'].float().to(device)\n",
        "    label = sample['label'].long().to(device)\n",
        "\n",
        "    # 계산 그래프 비활성화 (효율성을 위해)\n",
        "    with torch.no_grad():\n",
        "        # 모델 예측값 계산\n",
        "        pred = model(img)\n",
        "\n",
        "        # 손실 계산\n",
        "        pred_loss = criterion(pred, label)\n",
        "\n",
        "        # 정확히 예측한 샘플 개수 계산\n",
        "        num_correct = sum(torch.argmax(pred, dim=1) == label)\n",
        "\n",
        "    # 손실 값과 정확히 예측한 샘플 개수 반환\n",
        "    return pred_loss.item(), num_correct.item()"
      ]
    },
    {
      "cell_type": "markdown",
      "metadata": {
        "id": "T23Toz8vI7Gu"
      },
      "source": [
        "### Run the MLP model"
      ]
    },
    {
      "cell_type": "code",
      "execution_count": null,
      "metadata": {
        "colab": {
          "base_uri": "https://localhost:8080/",
          "height": 217,
          "referenced_widgets": [
            "f49622f1a00a447abd07f7833b8de381",
            "31a5269051de4b8e9dd3074a3791430b",
            "c553ec708e3f4ff3b75a14a7e72b889c",
            "72b8e554fc924fb3a3ad268de2c5a678",
            "d766f7d5d204406c926f55512e110a02",
            "8ba793476245492e89befd1b3f9747dd",
            "f898e3ed913a407aaad69944e6d40d43",
            "2bc7efbb3ec64850b3b436bdd703cab1",
            "e2190a2c47b34c3dae8d3e159c67c6ad",
            "a395605aa5e34ab89ea8a3d41a9ac07b",
            "c90c4a7605cf4497b4bfae6c2eb84294"
          ]
        },
        "id": "-kTrpt4YMRS6",
        "outputId": "d36c7fa4-4a8e-40a1-bdf6-0a1c7c835122"
      },
      "outputs": [
        {
          "output_type": "display_data",
          "data": {
            "text/plain": [
              "  0%|          | 0/100 [00:00<?, ?it/s]"
            ],
            "application/vnd.jupyter.widget-view+json": {
              "version_major": 2,
              "version_minor": 0,
              "model_id": "f49622f1a00a447abd07f7833b8de381"
            }
          },
          "metadata": {}
        },
        {
          "output_type": "stream",
          "name": "stdout",
          "text": [
            "[epoch 10] train accu :0.93 , test accu :0.93\n",
            "[epoch 20] train accu :0.95 , test accu :0.94\n",
            "[epoch 30] train accu :0.97 , test accu :0.95\n",
            "[epoch 40] train accu :0.98 , test accu :0.96\n",
            "[epoch 50] train accu :0.99 , test accu :0.96\n",
            "[epoch 60] train accu :0.99 , test accu :0.96\n",
            "[epoch 70] train accu :1.00 , test accu :0.96\n",
            "[epoch 80] train accu :1.00 , test accu :0.96\n",
            "[epoch 90] train accu :1.00 , test accu :0.97\n"
          ]
        }
      ],
      "source": [
        "# 최대 학습 에포크 수 정의\n",
        "max_epoch = 100\n",
        "\n",
        "# 학습 및 테스트 정확도를 출력할 빈도 설정\n",
        "print_stride = 10\n",
        "\n",
        "# 학습 및 테스트 손실을 저장할 리스트 초기화\n",
        "tr_loss_saver = []\n",
        "te_loss_saver = []\n",
        "\n",
        "# 에포크 반복\n",
        "for epoch in tqdm(range(max_epoch)):\n",
        "    ### 학습 단계\n",
        "    train_loss = 0.0  # 학습 손실 초기화\n",
        "    train_accu = 0.0  # 학습 정확도 초기화\n",
        "\n",
        "    # 학습 데이터로더 반복\n",
        "    for idx, sample in enumerate(train_dataloader):\n",
        "        # 학습 단계를 수행하고 현재 손실 및 정확히 예측한 개수 계산\n",
        "        curr_loss, num_correct = train(model, optimizer, sample)\n",
        "        # 손실 및 정확도 누적\n",
        "        train_loss += curr_loss / len(train_dataloader)\n",
        "        train_accu += num_correct / len(train_dataset)\n",
        "\n",
        "    # 학습 손실 저장\n",
        "    tr_loss_saver.append(train_loss)\n",
        "\n",
        "    # 현재 모델 매개변수 저장\n",
        "    torch.save(model.state_dict(), 'recent.pth')\n",
        "\n",
        "    ### 테스트 단계\n",
        "    test_loss = 0.0  # 테스트 손실 초기화\n",
        "    test_accu = 0.0  # 테스트 정확도 초기화\n",
        "\n",
        "    # 테스트 데이터로더 반복\n",
        "    for idx, sample in enumerate(test_dataloader):\n",
        "        # 테스트 단계를 수행하고 현재 손실 및 정확히 예측한 개수 계산\n",
        "        curr_loss, num_correct = test(model, sample)\n",
        "        # 손실 및 정확도 누적\n",
        "        test_loss += curr_loss / len(test_dataloader)\n",
        "        test_accu += num_correct / len(test_dataset)\n",
        "\n",
        "    # 테스트 손실 저장\n",
        "    te_loss_saver.append(test_loss)\n",
        "\n",
        "    # 지정된 에포크마다 학습 및 테스트 정확도 출력\n",
        "    if (epoch+1) % print_stride == 0:\n",
        "        print('[epoch {}] train accu :{:.2f} , test accu :{:.2f}'.format(epoch+1, train_accu, test_accu))\n"
      ]
    },
    {
      "cell_type": "markdown",
      "metadata": {
        "id": "AJxCEmIL3Eai"
      },
      "source": [
        "### Plot the train and test loss"
      ]
    },
    {
      "cell_type": "code",
      "execution_count": null,
      "metadata": {
        "colab": {
          "base_uri": "https://localhost:8080/",
          "height": 333
        },
        "id": "DZpimy3esueo",
        "outputId": "656e24dd-ea28-4c7c-80d2-925ed127c9d4"
      },
      "outputs": [
        {
          "output_type": "display_data",
          "data": {
            "text/plain": [
              "<Figure size 400x300 with 1 Axes>"
            ],
            "image/png": "[encoded data removed]"
          },
          "metadata": {}
        }
      ],
      "source": [
        "# 학습 및 테스트 손실 시각화\n",
        "plt.figure(figsize=(4, 3))\n",
        "plt.plot(tr_loss_saver)  # 학습 손실 그래프\n",
        "plt.plot(te_loss_saver)  # 테스트 손실 그래프\n",
        "plt.legend(['Train Loss', 'Test Loss'])  # 범례 추가\n",
        "plt.xlabel('Epoch')  # x축 레이블\n",
        "plt.ylabel('Loss')  # y축 레이블\n",
        "plt.title('Train and Test Loss')  # 그래프 제목\n",
        "plt.show()  # 그래프 표시"
      ]
    }
  ],
  "metadata": {
    "accelerator": "GPU",
    "colab": {
      "provenance": [],
      "include_colab_link": true
    },
    "kernelspec": {
      "display_name": "Python 3",
      "name": "python3"
    },
    "widgets": {
      "application/vnd.jupyter.widget-state+json": {
        "f49622f1a00a447abd07f7833b8de381": {
          "model_module": "@jupyter-widgets/controls",
          "model_name": "HBoxModel",
          "model_module_version": "1.5.0",
          "state": {
            "_dom_classes": [],
            "_model_module": "@jupyter-widgets/controls",
            "_model_module_version": "1.5.0",
            "_model_name": "HBoxModel",
            "_view_count": null,
            "_view_module": "@jupyter-widgets/controls",
            "_view_module_version": "1.5.0",
            "_view_name": "HBoxView",
            "box_style": "",
            "children": [
              "IPY_MODEL_31a5269051de4b8e9dd3074a3791430b",
              "IPY_MODEL_c553ec708e3f4ff3b75a14a7e72b889c",
              "IPY_MODEL_72b8e554fc924fb3a3ad268de2c5a678"
            ],
            "layout": "IPY_MODEL_d766f7d5d204406c926f55512e110a02"
          }
        },
        "31a5269051de4b8e9dd3074a3791430b": {
          "model_module": "@jupyter-widgets/controls",
          "model_name": "HTMLModel",
          "model_module_version": "1.5.0",
          "state": {
            "_dom_classes": [],
            "_model_module": "@jupyter-widgets/controls",
            "_model_module_version": "1.5.0",
            "_model_name": "HTMLModel",
            "_view_count": null,
            "_view_module": "@jupyter-widgets/controls",
            "_view_module_version": "1.5.0",
            "_view_name": "HTMLView",
            "description": "",
            "description_tooltip": null,
            "layout": "IPY_MODEL_8ba793476245492e89befd1b3f9747dd",
            "placeholder": "​",
            "style": "IPY_MODEL_f898e3ed913a407aaad69944e6d40d43",
            "value": " 98%"
          }
        },
        "c553ec708e3f4ff3b75a14a7e72b889c": {
          "model_module": "@jupyter-widgets/controls",
          "model_name": "FloatProgressModel",
          "model_module_version": "1.5.0",
          "state": {
            "_dom_classes": [],
            "_model_module": "@jupyter-widgets/controls",
            "_model_module_version": "1.5.0",
            "_model_name": "FloatProgressModel",
            "_view_count": null,
            "_view_module": "@jupyter-widgets/controls",
            "_view_module_version": "1.5.0",
            "_view_name": "ProgressView",
            "bar_style": "",
            "description": "",
            "description_tooltip": null,
            "layout": "IPY_MODEL_2bc7efbb3ec64850b3b436bdd703cab1",
            "max": 100,
            "min": 0,
            "orientation": "horizontal",
            "style": "IPY_MODEL_e2190a2c47b34c3dae8d3e159c67c6ad",
            "value": 98
          }
        },
        "72b8e554fc924fb3a3ad268de2c5a678": {
          "model_module": "@jupyter-widgets/controls",
          "model_name": "HTMLModel",
          "model_module_version": "1.5.0",
          "state": {
            "_dom_classes": [],
            "_model_module": "@jupyter-widgets/controls",
            "_model_module_version": "1.5.0",
            "_model_name": "HTMLModel",
            "_view_count": null,
            "_view_module": "@jupyter-widgets/controls",
            "_view_module_version": "1.5.0",
            "_view_name": "HTMLView",
            "description": "",
            "description_tooltip": null,
            "layout": "IPY_MODEL_a395605aa5e34ab89ea8a3d41a9ac07b",
            "placeholder": "​",
            "style": "IPY_MODEL_c90c4a7605cf4497b4bfae6c2eb84294",
            "value": " 98/100 [02:22&lt;00:02,  1.40s/it]"
          }
        },
        "d766f7d5d204406c926f55512e110a02": {
          "model_module": "@jupyter-widgets/base",
          "model_name": "LayoutModel",
          "model_module_version": "1.2.0",
          "state": {
            "_model_module": "@jupyter-widgets/base",
            "_model_module_version": "1.2.0",
            "_model_name": "LayoutModel",
            "_view_count": null,
            "_view_module": "@jupyter-widgets/base",
            "_view_module_version": "1.2.0",
            "_view_name": "LayoutView",
            "align_content": null,
            "align_items": null,
            "align_self": null,
            "border": null,
            "bottom": null,
            "display": null,
            "flex": null,
            "flex_flow": null,
            "grid_area": null,
            "grid_auto_columns": null,
            "grid_auto_flow": null,
            "grid_auto_rows": null,
            "grid_column": null,
            "grid_gap": null,
            "grid_row": null,
            "grid_template_areas": null,
            "grid_template_columns": null,
            "grid_template_rows": null,
            "height": null,
            "justify_content": null,
            "justify_items": null,
            "left": null,
            "margin": null,
            "max_height": null,
            "max_width": null,
            "min_height": null,
            "min_width": null,
            "object_fit": null,
            "object_position": null,
            "order": null,
            "overflow": null,
            "overflow_x": null,
            "overflow_y": null,
            "padding": null,
            "right": null,
            "top": null,
            "visibility": null,
            "width": null
          }
        },
        "8ba793476245492e89befd1b3f9747dd": {
          "model_module": "@jupyter-widgets/base",
          "model_name": "LayoutModel",
          "model_module_version": "1.2.0",
          "state": {
            "_model_module": "@jupyter-widgets/base",
            "_model_module_version": "1.2.0",
            "_model_name": "LayoutModel",
            "_view_count": null,
            "_view_module": "@jupyter-widgets/base",
            "_view_module_version": "1.2.0",
            "_view_name": "LayoutView",
            "align_content": null,
            "align_items": null,
            "align_self": null,
            "border": null,
            "bottom": null,
            "display": null,
            "flex": null,
            "flex_flow": null,
            "grid_area": null,
            "grid_auto_columns": null,
            "grid_auto_flow": null,
            "grid_auto_rows": null,
            "grid_column": null,
            "grid_gap": null,
            "grid_row": null,
            "grid_template_areas": null,
            "grid_template_columns": null,
            "grid_template_rows": null,
            "height": null,
            "justify_content": null,
            "justify_items": null,
            "left": null,
            "margin": null,
            "max_height": null,
            "max_width": null,
            "min_height": null,
            "min_width": null,
            "object_fit": null,
            "object_position": null,
            "order": null,
            "overflow": null,
            "overflow_x": null,
            "overflow_y": null,
            "padding": null,
            "right": null,
            "top": null,
            "visibility": null,
            "width": null
          }
        },
        "f898e3ed913a407aaad69944e6d40d43": {
          "model_module": "@jupyter-widgets/controls",
          "model_name": "DescriptionStyleModel",
          "model_module_version": "1.5.0",
          "state": {
            "_model_module": "@jupyter-widgets/controls",
            "_model_module_version": "1.5.0",
            "_model_name": "DescriptionStyleModel",
            "_view_count": null,
            "_view_module": "@jupyter-widgets/base",
            "_view_module_version": "1.2.0",
            "_view_name": "StyleView",
            "description_width": ""
          }
        },
        "2bc7efbb3ec64850b3b436bdd703cab1": {
          "model_module": "@jupyter-widgets/base",
          "model_name": "LayoutModel",
          "model_module_version": "1.2.0",
          "state": {
            "_model_module": "@jupyter-widgets/base",
            "_model_module_version": "1.2.0",
            "_model_name": "LayoutModel",
            "_view_count": null,
            "_view_module": "@jupyter-widgets/base",
            "_view_module_version": "1.2.0",
            "_view_name": "LayoutView",
            "align_content": null,
            "align_items": null,
            "align_self": null,
            "border": null,
            "bottom": null,
            "display": null,
            "flex": null,
            "flex_flow": null,
            "grid_area": null,
            "grid_auto_columns": null,
            "grid_auto_flow": null,
            "grid_auto_rows": null,
            "grid_column": null,
            "grid_gap": null,
            "grid_row": null,
            "grid_template_areas": null,
            "grid_template_columns": null,
            "grid_template_rows": null,
            "height": null,
            "justify_content": null,
            "justify_items": null,
            "left": null,
            "margin": null,
            "max_height": null,
            "max_width": null,
            "min_height": null,
            "min_width": null,
            "object_fit": null,
            "object_position": null,
            "order": null,
            "overflow": null,
            "overflow_x": null,
            "overflow_y": null,
            "padding": null,
            "right": null,
            "top": null,
            "visibility": null,
            "width": null
          }
        },
        "e2190a2c47b34c3dae8d3e159c67c6ad": {
          "model_module": "@jupyter-widgets/controls",
          "model_name": "ProgressStyleModel",
          "model_module_version": "1.5.0",
          "state": {
            "_model_module": "@jupyter-widgets/controls",
            "_model_module_version": "1.5.0",
            "_model_name": "ProgressStyleModel",
            "_view_count": null,
            "_view_module": "@jupyter-widgets/base",
            "_view_module_version": "1.2.0",
            "_view_name": "StyleView",
            "bar_color": null,
            "description_width": ""
          }
        },
        "a395605aa5e34ab89ea8a3d41a9ac07b": {
          "model_module": "@jupyter-widgets/base",
          "model_name": "LayoutModel",
          "model_module_version": "1.2.0",
          "state": {
            "_model_module": "@jupyter-widgets/base",
            "_model_module_version": "1.2.0",
            "_model_name": "LayoutModel",
            "_view_count": null,
            "_view_module": "@jupyter-widgets/base",
            "_view_module_version": "1.2.0",
            "_view_name": "LayoutView",
            "align_content": null,
            "align_items": null,
            "align_self": null,
            "border": null,
            "bottom": null,
            "display": null,
            "flex": null,
            "flex_flow": null,
            "grid_area": null,
            "grid_auto_columns": null,
            "grid_auto_flow": null,
            "grid_auto_rows": null,
            "grid_column": null,
            "grid_gap": null,
            "grid_row": null,
            "grid_template_areas": null,
            "grid_template_columns": null,
            "grid_template_rows": null,
            "height": null,
            "justify_content": null,
            "justify_items": null,
            "left": null,
            "margin": null,
            "max_height": null,
            "max_width": null,
            "min_height": null,
            "min_width": null,
            "object_fit": null,
            "object_position": null,
            "order": null,
            "overflow": null,
            "overflow_x": null,
            "overflow_y": null,
            "padding": null,
            "right": null,
            "top": null,
            "visibility": null,
            "width": null
          }
        },
        "c90c4a7605cf4497b4bfae6c2eb84294": {
          "model_module": "@jupyter-widgets/controls",
          "model_name": "DescriptionStyleModel",
          "model_module_version": "1.5.0",
          "state": {
            "_model_module": "@jupyter-widgets/controls",
            "_model_module_version": "1.5.0",
            "_model_name": "DescriptionStyleModel",
            "_view_count": null,
            "_view_module": "@jupyter-widgets/base",
            "_view_module_version": "1.2.0",
            "_view_name": "StyleView",
            "description_width": ""
          }
        }
      }
    }
  },
  "nbformat": 4,
  "nbformat_minor": 0
}